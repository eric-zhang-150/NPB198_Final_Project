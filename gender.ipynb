{
 "cells": [
  {
   "cell_type": "code",
   "execution_count": 1,
   "id": "87d0d494",
   "metadata": {},
   "outputs": [],
   "source": [
    "# import sys\n",
    "# !{sys.executable} -m pip install librosa\n",
    "\n",
    "import keras\n",
    "from keras.layers import Activation, Dense, Dropout, Conv2D, Flatten, MaxPooling2D\n",
    "from keras.models import Sequential\n",
    "\n",
    "import librosa\n",
    "import librosa.display\n",
    "\n",
    "import numpy as np\n",
    "import pandas as pd\n",
    "import random\n",
    "\n",
    "import time\n",
    "import pickle"
   ]
  },
  {
   "cell_type": "code",
   "execution_count": 2,
   "id": "9ae5910c",
   "metadata": {},
   "outputs": [
    {
     "data": {
      "text/html": [
       "<div>\n",
       "<style scoped>\n",
       "    .dataframe tbody tr th:only-of-type {\n",
       "        vertical-align: middle;\n",
       "    }\n",
       "\n",
       "    .dataframe tbody tr th {\n",
       "        vertical-align: top;\n",
       "    }\n",
       "\n",
       "    .dataframe thead th {\n",
       "        text-align: right;\n",
       "    }\n",
       "</style>\n",
       "<table border=\"1\" class=\"dataframe\">\n",
       "  <thead>\n",
       "    <tr style=\"text-align: right;\">\n",
       "      <th></th>\n",
       "      <th>age</th>\n",
       "      <th>age_onset</th>\n",
       "      <th>birthplace</th>\n",
       "      <th>filename</th>\n",
       "      <th>native_language</th>\n",
       "      <th>sex</th>\n",
       "      <th>speakerid</th>\n",
       "      <th>country</th>\n",
       "      <th>file_missing?</th>\n",
       "    </tr>\n",
       "  </thead>\n",
       "  <tbody>\n",
       "    <tr>\n",
       "      <th>32</th>\n",
       "      <td>27.0</td>\n",
       "      <td>9.0</td>\n",
       "      <td>virginia, south africa</td>\n",
       "      <td>afrikaans1</td>\n",
       "      <td>afrikaans</td>\n",
       "      <td>female</td>\n",
       "      <td>1</td>\n",
       "      <td>south africa</td>\n",
       "      <td>False</td>\n",
       "    </tr>\n",
       "    <tr>\n",
       "      <th>33</th>\n",
       "      <td>40.0</td>\n",
       "      <td>5.0</td>\n",
       "      <td>pretoria, south africa</td>\n",
       "      <td>afrikaans2</td>\n",
       "      <td>afrikaans</td>\n",
       "      <td>male</td>\n",
       "      <td>2</td>\n",
       "      <td>south africa</td>\n",
       "      <td>False</td>\n",
       "    </tr>\n",
       "    <tr>\n",
       "      <th>34</th>\n",
       "      <td>43.0</td>\n",
       "      <td>4.0</td>\n",
       "      <td>pretoria, transvaal, south africa</td>\n",
       "      <td>afrikaans3</td>\n",
       "      <td>afrikaans</td>\n",
       "      <td>male</td>\n",
       "      <td>418</td>\n",
       "      <td>south africa</td>\n",
       "      <td>False</td>\n",
       "    </tr>\n",
       "    <tr>\n",
       "      <th>35</th>\n",
       "      <td>26.0</td>\n",
       "      <td>8.0</td>\n",
       "      <td>pretoria, south africa</td>\n",
       "      <td>afrikaans4</td>\n",
       "      <td>afrikaans</td>\n",
       "      <td>male</td>\n",
       "      <td>1159</td>\n",
       "      <td>south africa</td>\n",
       "      <td>False</td>\n",
       "    </tr>\n",
       "    <tr>\n",
       "      <th>36</th>\n",
       "      <td>19.0</td>\n",
       "      <td>6.0</td>\n",
       "      <td>cape town, south africa</td>\n",
       "      <td>afrikaans5</td>\n",
       "      <td>afrikaans</td>\n",
       "      <td>male</td>\n",
       "      <td>1432</td>\n",
       "      <td>south africa</td>\n",
       "      <td>False</td>\n",
       "    </tr>\n",
       "    <tr>\n",
       "      <th>37</th>\n",
       "      <td>25.0</td>\n",
       "      <td>15.0</td>\n",
       "      <td>diekabo, ivory coast</td>\n",
       "      <td>agni1</td>\n",
       "      <td>agni</td>\n",
       "      <td>male</td>\n",
       "      <td>3</td>\n",
       "      <td>ivory coast</td>\n",
       "      <td>False</td>\n",
       "    </tr>\n",
       "    <tr>\n",
       "      <th>38</th>\n",
       "      <td>41.0</td>\n",
       "      <td>5.0</td>\n",
       "      <td>accra, ghana</td>\n",
       "      <td>akan1</td>\n",
       "      <td>akan</td>\n",
       "      <td>male</td>\n",
       "      <td>979</td>\n",
       "      <td>ghana</td>\n",
       "      <td>False</td>\n",
       "    </tr>\n",
       "    <tr>\n",
       "      <th>39</th>\n",
       "      <td>19.0</td>\n",
       "      <td>6.0</td>\n",
       "      <td>prishtina, kosovo</td>\n",
       "      <td>albanian1</td>\n",
       "      <td>albanian</td>\n",
       "      <td>male</td>\n",
       "      <td>4</td>\n",
       "      <td>kosovo</td>\n",
       "      <td>False</td>\n",
       "    </tr>\n",
       "    <tr>\n",
       "      <th>40</th>\n",
       "      <td>33.0</td>\n",
       "      <td>15.0</td>\n",
       "      <td>tirana, albania</td>\n",
       "      <td>albanian2</td>\n",
       "      <td>albanian</td>\n",
       "      <td>male</td>\n",
       "      <td>5</td>\n",
       "      <td>albania</td>\n",
       "      <td>False</td>\n",
       "    </tr>\n",
       "    <tr>\n",
       "      <th>41</th>\n",
       "      <td>44.0</td>\n",
       "      <td>35.0</td>\n",
       "      <td>tirana, albania</td>\n",
       "      <td>albanian3</td>\n",
       "      <td>albanian</td>\n",
       "      <td>male</td>\n",
       "      <td>458</td>\n",
       "      <td>albania</td>\n",
       "      <td>False</td>\n",
       "    </tr>\n",
       "  </tbody>\n",
       "</table>\n",
       "</div>"
      ],
      "text/plain": [
       "     age  age_onset                         birthplace    filename  \\\n",
       "32  27.0        9.0             virginia, south africa  afrikaans1   \n",
       "33  40.0        5.0             pretoria, south africa  afrikaans2   \n",
       "34  43.0        4.0  pretoria, transvaal, south africa  afrikaans3   \n",
       "35  26.0        8.0             pretoria, south africa  afrikaans4   \n",
       "36  19.0        6.0            cape town, south africa  afrikaans5   \n",
       "37  25.0       15.0               diekabo, ivory coast       agni1   \n",
       "38  41.0        5.0                       accra, ghana       akan1   \n",
       "39  19.0        6.0                  prishtina, kosovo   albanian1   \n",
       "40  33.0       15.0                    tirana, albania   albanian2   \n",
       "41  44.0       35.0                    tirana, albania   albanian3   \n",
       "\n",
       "   native_language     sex  speakerid       country  file_missing?  \n",
       "32       afrikaans  female          1  south africa          False  \n",
       "33       afrikaans    male          2  south africa          False  \n",
       "34       afrikaans    male        418  south africa          False  \n",
       "35       afrikaans    male       1159  south africa          False  \n",
       "36       afrikaans    male       1432  south africa          False  \n",
       "37            agni    male          3   ivory coast          False  \n",
       "38            akan    male        979         ghana          False  \n",
       "39        albanian    male          4        kosovo          False  \n",
       "40        albanian    male          5       albania          False  \n",
       "41        albanian    male        458       albania          False  "
      ]
     },
     "execution_count": 2,
     "metadata": {},
     "output_type": "execute_result"
    }
   ],
   "source": [
    "# Read Data\n",
    "data = pd.read_csv('speakers_all.csv')\n",
    "\n",
    "data = data[data['file_missing?'] != True]\n",
    "data = data[data['filename'] != 'nicaragua']\n",
    "data = data[data['filename'] != 'sinhalese1']\n",
    "\n",
    "data = data.iloc[:,:-3]\n",
    "data.head(10)"
   ]
  },
  {
   "cell_type": "code",
   "execution_count": 3,
   "id": "12eaa2ec",
   "metadata": {},
   "outputs": [
    {
     "data": {
      "text/plain": [
       "(2138, 8)"
      ]
     },
     "execution_count": 3,
     "metadata": {},
     "output_type": "execute_result"
    }
   ],
   "source": [
    "data = data.iloc[:, :-1]\n",
    "data.shape"
   ]
  },
  {
   "cell_type": "code",
   "execution_count": 4,
   "id": "d9e50c77",
   "metadata": {
    "scrolled": false
   },
   "outputs": [
    {
     "data": {
      "text/plain": [
       "male      1102\n",
       "female    1035\n",
       "famale       1\n",
       "Name: sex, dtype: int64"
      ]
     },
     "execution_count": 4,
     "metadata": {},
     "output_type": "execute_result"
    }
   ],
   "source": [
    "data['sex'].value_counts()"
   ]
  },
  {
   "cell_type": "code",
   "execution_count": 5,
   "id": "d776f658",
   "metadata": {
    "scrolled": true
   },
   "outputs": [
    {
     "name": "stderr",
     "output_type": "stream",
     "text": [
      "/Users/dh/opt/anaconda3/lib/python3.8/site-packages/pandas/core/indexing.py:1637: SettingWithCopyWarning: \n",
      "A value is trying to be set on a copy of a slice from a DataFrame\n",
      "\n",
      "See the caveats in the documentation: https://pandas.pydata.org/pandas-docs/stable/user_guide/indexing.html#returning-a-view-versus-a-copy\n",
      "  self._setitem_single_block(indexer, value, name)\n"
     ]
    },
    {
     "data": {
      "text/plain": [
       "male      1102\n",
       "female    1036\n",
       "Name: sex, dtype: int64"
      ]
     },
     "execution_count": 5,
     "metadata": {},
     "output_type": "execute_result"
    }
   ],
   "source": [
    "data['sex'].loc[data['sex'] == 'famale'] = 'female'\n",
    "data['sex'].value_counts()\n"
   ]
  },
  {
   "cell_type": "code",
   "execution_count": 7,
   "id": "59dfc53a",
   "metadata": {},
   "outputs": [
    {
     "data": {
      "text/html": [
       "<div>\n",
       "<style scoped>\n",
       "    .dataframe tbody tr th:only-of-type {\n",
       "        vertical-align: middle;\n",
       "    }\n",
       "\n",
       "    .dataframe tbody tr th {\n",
       "        vertical-align: top;\n",
       "    }\n",
       "\n",
       "    .dataframe thead th {\n",
       "        text-align: right;\n",
       "    }\n",
       "</style>\n",
       "<table border=\"1\" class=\"dataframe\">\n",
       "  <thead>\n",
       "    <tr style=\"text-align: right;\">\n",
       "      <th></th>\n",
       "      <th>age</th>\n",
       "      <th>age_onset</th>\n",
       "      <th>birthplace</th>\n",
       "      <th>filename</th>\n",
       "      <th>native_language</th>\n",
       "      <th>speakerid</th>\n",
       "      <th>country</th>\n",
       "      <th>sex_female</th>\n",
       "      <th>sex_male</th>\n",
       "    </tr>\n",
       "  </thead>\n",
       "  <tbody>\n",
       "    <tr>\n",
       "      <th>32</th>\n",
       "      <td>27.0</td>\n",
       "      <td>9.0</td>\n",
       "      <td>virginia, south africa</td>\n",
       "      <td>afrikaans1</td>\n",
       "      <td>afrikaans</td>\n",
       "      <td>1</td>\n",
       "      <td>south africa</td>\n",
       "      <td>1</td>\n",
       "      <td>0</td>\n",
       "    </tr>\n",
       "    <tr>\n",
       "      <th>33</th>\n",
       "      <td>40.0</td>\n",
       "      <td>5.0</td>\n",
       "      <td>pretoria, south africa</td>\n",
       "      <td>afrikaans2</td>\n",
       "      <td>afrikaans</td>\n",
       "      <td>2</td>\n",
       "      <td>south africa</td>\n",
       "      <td>0</td>\n",
       "      <td>1</td>\n",
       "    </tr>\n",
       "    <tr>\n",
       "      <th>34</th>\n",
       "      <td>43.0</td>\n",
       "      <td>4.0</td>\n",
       "      <td>pretoria, transvaal, south africa</td>\n",
       "      <td>afrikaans3</td>\n",
       "      <td>afrikaans</td>\n",
       "      <td>418</td>\n",
       "      <td>south africa</td>\n",
       "      <td>0</td>\n",
       "      <td>1</td>\n",
       "    </tr>\n",
       "    <tr>\n",
       "      <th>35</th>\n",
       "      <td>26.0</td>\n",
       "      <td>8.0</td>\n",
       "      <td>pretoria, south africa</td>\n",
       "      <td>afrikaans4</td>\n",
       "      <td>afrikaans</td>\n",
       "      <td>1159</td>\n",
       "      <td>south africa</td>\n",
       "      <td>0</td>\n",
       "      <td>1</td>\n",
       "    </tr>\n",
       "    <tr>\n",
       "      <th>36</th>\n",
       "      <td>19.0</td>\n",
       "      <td>6.0</td>\n",
       "      <td>cape town, south africa</td>\n",
       "      <td>afrikaans5</td>\n",
       "      <td>afrikaans</td>\n",
       "      <td>1432</td>\n",
       "      <td>south africa</td>\n",
       "      <td>0</td>\n",
       "      <td>1</td>\n",
       "    </tr>\n",
       "  </tbody>\n",
       "</table>\n",
       "</div>"
      ],
      "text/plain": [
       "     age  age_onset                         birthplace    filename  \\\n",
       "32  27.0        9.0             virginia, south africa  afrikaans1   \n",
       "33  40.0        5.0             pretoria, south africa  afrikaans2   \n",
       "34  43.0        4.0  pretoria, transvaal, south africa  afrikaans3   \n",
       "35  26.0        8.0             pretoria, south africa  afrikaans4   \n",
       "36  19.0        6.0            cape town, south africa  afrikaans5   \n",
       "\n",
       "   native_language  speakerid       country  sex_female  sex_male  \n",
       "32       afrikaans          1  south africa           1         0  \n",
       "33       afrikaans          2  south africa           0         1  \n",
       "34       afrikaans        418  south africa           0         1  \n",
       "35       afrikaans       1159  south africa           0         1  \n",
       "36       afrikaans       1432  south africa           0         1  "
      ]
     },
     "execution_count": 7,
     "metadata": {},
     "output_type": "execute_result"
    }
   ],
   "source": [
    "data = pd.get_dummies(data, columns = ['sex'])\n",
    "data.head()"
   ]
  },
  {
   "cell_type": "code",
   "execution_count": 8,
   "id": "1a94cadf",
   "metadata": {
    "scrolled": true
   },
   "outputs": [
    {
     "data": {
      "text/html": [
       "<div>\n",
       "<style scoped>\n",
       "    .dataframe tbody tr th:only-of-type {\n",
       "        vertical-align: middle;\n",
       "    }\n",
       "\n",
       "    .dataframe tbody tr th {\n",
       "        vertical-align: top;\n",
       "    }\n",
       "\n",
       "    .dataframe thead th {\n",
       "        text-align: right;\n",
       "    }\n",
       "</style>\n",
       "<table border=\"1\" class=\"dataframe\">\n",
       "  <thead>\n",
       "    <tr style=\"text-align: right;\">\n",
       "      <th></th>\n",
       "      <th>age</th>\n",
       "      <th>age_onset</th>\n",
       "      <th>birthplace</th>\n",
       "      <th>filename</th>\n",
       "      <th>native_language</th>\n",
       "      <th>speakerid</th>\n",
       "      <th>country</th>\n",
       "      <th>sex_female</th>\n",
       "      <th>sex_male</th>\n",
       "      <th>filePath</th>\n",
       "    </tr>\n",
       "  </thead>\n",
       "  <tbody>\n",
       "    <tr>\n",
       "      <th>32</th>\n",
       "      <td>27.0</td>\n",
       "      <td>9.0</td>\n",
       "      <td>virginia, south africa</td>\n",
       "      <td>afrikaans1</td>\n",
       "      <td>afrikaans</td>\n",
       "      <td>1</td>\n",
       "      <td>south africa</td>\n",
       "      <td>1</td>\n",
       "      <td>0</td>\n",
       "      <td>recordings/afrikaans1.wav</td>\n",
       "    </tr>\n",
       "    <tr>\n",
       "      <th>33</th>\n",
       "      <td>40.0</td>\n",
       "      <td>5.0</td>\n",
       "      <td>pretoria, south africa</td>\n",
       "      <td>afrikaans2</td>\n",
       "      <td>afrikaans</td>\n",
       "      <td>2</td>\n",
       "      <td>south africa</td>\n",
       "      <td>0</td>\n",
       "      <td>1</td>\n",
       "      <td>recordings/afrikaans2.wav</td>\n",
       "    </tr>\n",
       "    <tr>\n",
       "      <th>34</th>\n",
       "      <td>43.0</td>\n",
       "      <td>4.0</td>\n",
       "      <td>pretoria, transvaal, south africa</td>\n",
       "      <td>afrikaans3</td>\n",
       "      <td>afrikaans</td>\n",
       "      <td>418</td>\n",
       "      <td>south africa</td>\n",
       "      <td>0</td>\n",
       "      <td>1</td>\n",
       "      <td>recordings/afrikaans3.wav</td>\n",
       "    </tr>\n",
       "    <tr>\n",
       "      <th>35</th>\n",
       "      <td>26.0</td>\n",
       "      <td>8.0</td>\n",
       "      <td>pretoria, south africa</td>\n",
       "      <td>afrikaans4</td>\n",
       "      <td>afrikaans</td>\n",
       "      <td>1159</td>\n",
       "      <td>south africa</td>\n",
       "      <td>0</td>\n",
       "      <td>1</td>\n",
       "      <td>recordings/afrikaans4.wav</td>\n",
       "    </tr>\n",
       "    <tr>\n",
       "      <th>36</th>\n",
       "      <td>19.0</td>\n",
       "      <td>6.0</td>\n",
       "      <td>cape town, south africa</td>\n",
       "      <td>afrikaans5</td>\n",
       "      <td>afrikaans</td>\n",
       "      <td>1432</td>\n",
       "      <td>south africa</td>\n",
       "      <td>0</td>\n",
       "      <td>1</td>\n",
       "      <td>recordings/afrikaans5.wav</td>\n",
       "    </tr>\n",
       "    <tr>\n",
       "      <th>37</th>\n",
       "      <td>25.0</td>\n",
       "      <td>15.0</td>\n",
       "      <td>diekabo, ivory coast</td>\n",
       "      <td>agni1</td>\n",
       "      <td>agni</td>\n",
       "      <td>3</td>\n",
       "      <td>ivory coast</td>\n",
       "      <td>0</td>\n",
       "      <td>1</td>\n",
       "      <td>recordings/agni1.wav</td>\n",
       "    </tr>\n",
       "    <tr>\n",
       "      <th>38</th>\n",
       "      <td>41.0</td>\n",
       "      <td>5.0</td>\n",
       "      <td>accra, ghana</td>\n",
       "      <td>akan1</td>\n",
       "      <td>akan</td>\n",
       "      <td>979</td>\n",
       "      <td>ghana</td>\n",
       "      <td>0</td>\n",
       "      <td>1</td>\n",
       "      <td>recordings/akan1.wav</td>\n",
       "    </tr>\n",
       "    <tr>\n",
       "      <th>39</th>\n",
       "      <td>19.0</td>\n",
       "      <td>6.0</td>\n",
       "      <td>prishtina, kosovo</td>\n",
       "      <td>albanian1</td>\n",
       "      <td>albanian</td>\n",
       "      <td>4</td>\n",
       "      <td>kosovo</td>\n",
       "      <td>0</td>\n",
       "      <td>1</td>\n",
       "      <td>recordings/albanian1.wav</td>\n",
       "    </tr>\n",
       "    <tr>\n",
       "      <th>40</th>\n",
       "      <td>33.0</td>\n",
       "      <td>15.0</td>\n",
       "      <td>tirana, albania</td>\n",
       "      <td>albanian2</td>\n",
       "      <td>albanian</td>\n",
       "      <td>5</td>\n",
       "      <td>albania</td>\n",
       "      <td>0</td>\n",
       "      <td>1</td>\n",
       "      <td>recordings/albanian2.wav</td>\n",
       "    </tr>\n",
       "    <tr>\n",
       "      <th>41</th>\n",
       "      <td>44.0</td>\n",
       "      <td>35.0</td>\n",
       "      <td>tirana, albania</td>\n",
       "      <td>albanian3</td>\n",
       "      <td>albanian</td>\n",
       "      <td>458</td>\n",
       "      <td>albania</td>\n",
       "      <td>0</td>\n",
       "      <td>1</td>\n",
       "      <td>recordings/albanian3.wav</td>\n",
       "    </tr>\n",
       "  </tbody>\n",
       "</table>\n",
       "</div>"
      ],
      "text/plain": [
       "     age  age_onset                         birthplace    filename  \\\n",
       "32  27.0        9.0             virginia, south africa  afrikaans1   \n",
       "33  40.0        5.0             pretoria, south africa  afrikaans2   \n",
       "34  43.0        4.0  pretoria, transvaal, south africa  afrikaans3   \n",
       "35  26.0        8.0             pretoria, south africa  afrikaans4   \n",
       "36  19.0        6.0            cape town, south africa  afrikaans5   \n",
       "37  25.0       15.0               diekabo, ivory coast       agni1   \n",
       "38  41.0        5.0                       accra, ghana       akan1   \n",
       "39  19.0        6.0                  prishtina, kosovo   albanian1   \n",
       "40  33.0       15.0                    tirana, albania   albanian2   \n",
       "41  44.0       35.0                    tirana, albania   albanian3   \n",
       "\n",
       "   native_language  speakerid       country  sex_female  sex_male  \\\n",
       "32       afrikaans          1  south africa           1         0   \n",
       "33       afrikaans          2  south africa           0         1   \n",
       "34       afrikaans        418  south africa           0         1   \n",
       "35       afrikaans       1159  south africa           0         1   \n",
       "36       afrikaans       1432  south africa           0         1   \n",
       "37            agni          3   ivory coast           0         1   \n",
       "38            akan        979         ghana           0         1   \n",
       "39        albanian          4        kosovo           0         1   \n",
       "40        albanian          5       albania           0         1   \n",
       "41        albanian        458       albania           0         1   \n",
       "\n",
       "                     filePath  \n",
       "32  recordings/afrikaans1.wav  \n",
       "33  recordings/afrikaans2.wav  \n",
       "34  recordings/afrikaans3.wav  \n",
       "35  recordings/afrikaans4.wav  \n",
       "36  recordings/afrikaans5.wav  \n",
       "37       recordings/agni1.wav  \n",
       "38       recordings/akan1.wav  \n",
       "39   recordings/albanian1.wav  \n",
       "40   recordings/albanian2.wav  \n",
       "41   recordings/albanian3.wav  "
      ]
     },
     "execution_count": 8,
     "metadata": {},
     "output_type": "execute_result"
    }
   ],
   "source": [
    "data['filePath'] = 'recordings/' + data['filename'] + '.wav'\n",
    "data.head(10)"
   ]
  },
  {
   "cell_type": "code",
   "execution_count": 9,
   "id": "fc4ad425",
   "metadata": {},
   "outputs": [
    {
     "name": "stdout",
     "output_type": "stream",
     "text": [
      "(128, 512)\n"
     ]
    },
    {
     "data": {
      "text/plain": [
       "<matplotlib.collections.QuadMesh at 0x7fe1a812e160>"
      ]
     },
     "execution_count": 9,
     "metadata": {},
     "output_type": "execute_result"
    },
    {
     "data": {
      "image/png": "[encoded data removed]",
      "text/plain": [
       "<Figure size 432x288 with 1 Axes>"
      ]
     },
     "metadata": {
      "needs_background": "light"
     },
     "output_type": "display_data"
    }
   ],
   "source": [
    "# Example spectrogram\n",
    "duration_time = 11.88\n",
    "\n",
    "y, sr = librosa.load('recordings/afrikaans1.wav', duration=duration_time) # can adjust duration, shape change\n",
    "ex = librosa.feature.melspectrogram(y=y, sr=sr)\n",
    "print(ex.shape)\n",
    "librosa.display.specshow(ex, y_axis='mel', x_axis='time')"
   ]
  },
  {
   "cell_type": "code",
   "execution_count": 10,
   "id": "86b1e258",
   "metadata": {},
   "outputs": [
    {
     "name": "stdout",
     "output_type": "stream",
     "text": [
      "dataset dimension: (2138, 10)\n",
      "number of samples: 2138\n"
     ]
    }
   ],
   "source": [
    "length = ex.shape[1]\n",
    "# get the total sample size of new dataset (after removal)\n",
    "numOfTotal = data.shape[0]\n",
    "\n",
    "# subset of data, for testing (how many samples from dataset we use)\n",
    "numOfSample = numOfTotal \n",
    "\n",
    "data = data[:numOfSample]\n",
    "print(\"dataset dimension:\", data.shape)\n",
    "print(\"number of samples:\", numOfSample)"
   ]
  },
  {
   "cell_type": "code",
   "execution_count": 57,
   "id": "3539929c",
   "metadata": {},
   "outputs": [
    {
     "name": "stdout",
     "output_type": "stream",
     "text": [
      "Number of samples:  2138\n",
      "time used for generating spectrogram: 1551.4360229969025\n"
     ]
    }
   ],
   "source": [
    "D = [] # Dataset\n",
    "spec = []\n",
    "\n",
    "start = time.time()\n",
    "\n",
    "for row in data.itertuples():\n",
    "    y, sr = librosa.load(row.filePath, duration=duration_time)  \n",
    "    ps = librosa.feature.melspectrogram(y=y, sr=sr)\n",
    "    if ps.shape != (128, length): continue\n",
    "    D.append( (ps, row.sex_female) )\n",
    "    spec.append(ps)\n",
    "    \n",
    "end = time.time()    \n",
    "\n",
    "print(\"Number of samples: \", len(D))\n",
    "print(\"time used for generating spectrogram:\", end-start)\n"
   ]
  },
  {
   "cell_type": "code",
   "execution_count": 58,
   "id": "8cbd1634",
   "metadata": {},
   "outputs": [],
   "source": [
    "# save the converted spectrogram info dataframe into file\n",
    "open_file = open('spectrogram_gender', \"wb\")\n",
    "pickle.dump(D, open_file)\n",
    "open_file.close()\n",
    "\n",
    "open_file = open('spectrogram', \"wb\")\n",
    "pickle.dump(spec, open_file)\n",
    "open_file.close()"
   ]
  },
  {
   "cell_type": "markdown",
   "id": "6dc8de05",
   "metadata": {},
   "source": [
    "# start here!"
   ]
  },
  {
   "cell_type": "markdown",
   "id": "92d4a84f",
   "metadata": {},
   "source": [
    "### first try\n",
    "ignore this. I wrongly used softmax as activation funciton with Dense(1)"
   ]
  },
  {
   "cell_type": "code",
   "execution_count": null,
   "id": "5c5e453f",
   "metadata": {},
   "outputs": [],
   "source": [
    "# load the spectrogram info datafram\n",
    "# it actually just some big numerical arrays, librosa covert the spectrogram to some numerical info.\n",
    "\n",
    "open_file = open('spectrogram_gender', \"rb\")\n",
    "D = pickle.load(open_file)\n",
    "open_file.close()\n",
    "\n",
    "dataset = D"
   ]
  },
  {
   "cell_type": "code",
   "execution_count": 78,
   "id": "da2b6b56",
   "metadata": {},
   "outputs": [],
   "source": [
    "from keras import utils\n",
    "\n",
    "# radomize the dataset\n",
    "random.shuffle(dataset)\n",
    "\n",
    "numSplit = round(numOfSample * 0.8)\n",
    "\n",
    "# split training set and testing set\n",
    "train = dataset[:numSplit]\n",
    "test = dataset[numSplit:]\n",
    "\n",
    "X_train, y_train = zip(*train)\n",
    "X_test, y_test = zip(*test)\n",
    "\n",
    "# Reshape for CNN input\n",
    "X_train = np.array([x.reshape( (128, length, 1) ) for x in X_train])\n",
    "X_test = np.array([x.reshape( (128, length, 1) ) for x in X_test])\n",
    "\n",
    "# transform to np array\n",
    "y_train = np.array(y_train)\n",
    "y_test = np.array(y_test)"
   ]
  },
  {
   "cell_type": "code",
   "execution_count": 80,
   "id": "465918d0",
   "metadata": {},
   "outputs": [],
   "source": [
    "# set up neural network: layer, number of neuron, activation function, etc.\n",
    "model = Sequential()\n",
    "input_shape=(128, length, 1)\n",
    "\n",
    "model.add(Conv2D(24, (5, 5), strides=(1, 1), input_shape=input_shape))\n",
    "model.add(MaxPooling2D((4, 2), strides=(4, 2)))\n",
    "model.add(Activation('relu'))\n",
    "\n",
    "model.add(Conv2D(48, (5, 5), padding=\"valid\"))\n",
    "model.add(MaxPooling2D((4, 2), strides=(4, 2)))\n",
    "model.add(Activation('relu'))\n",
    "\n",
    "model.add(Conv2D(48, (5, 5), padding=\"valid\"))\n",
    "model.add(Activation('relu'))\n",
    "\n",
    "model.add(Flatten())\n",
    "model.add(Dropout(rate=0.5))\n",
    "\n",
    "model.add(Dense(64))\n",
    "model.add(Activation('relu'))\n",
    "model.add(Dropout(rate=0.5))\n",
    "\n",
    "model.add(Dense(1))\n",
    "model.add(Activation('softmax'))"
   ]
  },
  {
   "cell_type": "code",
   "execution_count": 64,
   "id": "3c38aa90",
   "metadata": {},
   "outputs": [],
   "source": [
    "import tensorflow as tf"
   ]
  },
  {
   "cell_type": "code",
   "execution_count": 81,
   "id": "01bf1814",
   "metadata": {
    "scrolled": true
   },
   "outputs": [
    {
     "name": "stdout",
     "output_type": "stream",
     "text": [
      "Epoch 1/12\n",
      "1710/1710 [==============================] - 144s 83ms/step - loss: 1.1904 - accuracy: 0.4789 - val_loss: 0.7018 - val_accuracy: 0.5070\n",
      "Epoch 2/12\n",
      "1710/1710 [==============================] - 150s 88ms/step - loss: 0.5562 - accuracy: 0.4789 - val_loss: 0.5778 - val_accuracy: 0.5070\n",
      "Epoch 3/12\n",
      "1710/1710 [==============================] - 161s 94ms/step - loss: 0.4486 - accuracy: 0.4789 - val_loss: 0.4164 - val_accuracy: 0.5070\n",
      "Epoch 4/12\n",
      "1710/1710 [==============================] - 163s 95ms/step - loss: 0.3429 - accuracy: 0.4789 - val_loss: 0.3624 - val_accuracy: 0.5070\n",
      "Epoch 5/12\n",
      "1710/1710 [==============================] - 146s 86ms/step - loss: 0.2899 - accuracy: 0.4789 - val_loss: 0.2462 - val_accuracy: 0.5070\n",
      "Epoch 6/12\n",
      "1710/1710 [==============================] - 154s 90ms/step - loss: 0.2704 - accuracy: 0.4789 - val_loss: 0.6130 - val_accuracy: 0.5070\n",
      "Epoch 7/12\n",
      "1710/1710 [==============================] - 141s 82ms/step - loss: 0.2086 - accuracy: 0.4789 - val_loss: 0.3504 - val_accuracy: 0.5070\n",
      "Epoch 8/12\n",
      "1710/1710 [==============================] - 142s 83ms/step - loss: 0.2111 - accuracy: 0.4789 - val_loss: 0.2985 - val_accuracy: 0.5070\n",
      "14/14 [==============================] - 7s 481ms/step - loss: 0.2985 - accuracy: 0.5070\n",
      "Test loss: 0.2984814941883087\n",
      "Test accuracy: 0.5070093274116516\n"
     ]
    }
   ],
   "source": [
    "my_callbacks = [\n",
    "    tf.keras.callbacks.EarlyStopping(patience=3),\n",
    "    tf.keras.callbacks.ModelCheckpoint(filepath='model.{epoch:02d}-{val_loss:.2f}.h5'),\n",
    "    tf.keras.callbacks.TensorBoard(log_dir='./logs'),\n",
    "]\n",
    "\n",
    "\n",
    "model.compile(\n",
    "\toptimizer=\"Adam\",\n",
    "\tloss=\"binary_crossentropy\",\n",
    "\tmetrics=['accuracy'])\n",
    "\n",
    "model.fit(\n",
    "\tx=X_train, \n",
    "\ty=y_train,\n",
    "    epochs=12,\n",
    "    batch_size=1,\n",
    "    callbacks=my_callbacks,\n",
    "    validation_data= (X_test, y_test))\n",
    "\n",
    "score = model.evaluate(\n",
    "\tx=X_test,\n",
    "\ty=y_test)\n",
    "\n",
    "print('Test loss:', score[0])\n",
    "print('Test accuracy:', score[1])"
   ]
  },
  {
   "cell_type": "markdown",
   "id": "7abb5bd5",
   "metadata": {},
   "source": [
    "### second try\n",
    "change activaiton funciton from softmax to sigmoid\n",
    "\n",
    "since the accuracy doesn't change, I also doubt about the learning rate is too low.\n",
    "\n",
    "The default learning rate of optimizer=\"Adam\" is 0.001. I tried rate = 0.01 first, and accuracy jumped pretty fast. Then I tried rate = 0.005, and it still jumped. Finally, I changed back to the orginal rate = 0.001 ==> Stable"
   ]
  },
  {
   "cell_type": "code",
   "execution_count": 82,
   "id": "2edbaa4a",
   "metadata": {},
   "outputs": [],
   "source": [
    "# set up neural network: layer, number of neuron, activation function, etc.\n",
    "model = Sequential()\n",
    "input_shape=(128, length, 1)\n",
    "\n",
    "model.add(Conv2D(24, (5, 5), strides=(1, 1), input_shape=input_shape))\n",
    "model.add(MaxPooling2D((4, 2), strides=(4, 2)))\n",
    "model.add(Activation('relu'))\n",
    "\n",
    "model.add(Conv2D(48, (5, 5), padding=\"valid\"))\n",
    "model.add(MaxPooling2D((4, 2), strides=(4, 2)))\n",
    "model.add(Activation('relu'))\n",
    "\n",
    "model.add(Conv2D(48, (5, 5), padding=\"valid\"))\n",
    "model.add(Activation('relu'))\n",
    "\n",
    "model.add(Flatten())\n",
    "model.add(Dropout(rate=0.5))\n",
    "\n",
    "model.add(Dense(64))\n",
    "model.add(Activation('relu'))\n",
    "model.add(Dropout(rate=0.5))\n",
    "\n",
    "model.add(Dense(1))\n",
    "model.add(Activation('sigmoid'))"
   ]
  },
  {
   "cell_type": "code",
   "execution_count": 84,
   "id": "f20c518f",
   "metadata": {},
   "outputs": [],
   "source": [
    "import tensorflow as tf\n",
    "from tensorflow import keras"
   ]
  },
  {
   "cell_type": "code",
   "execution_count": 87,
   "id": "9fad8e48",
   "metadata": {
    "scrolled": true
   },
   "outputs": [
    {
     "name": "stdout",
     "output_type": "stream",
     "text": [
      "Epoch 1/12\n",
      "1710/1710 [==============================] - 144s 84ms/step - loss: 0.7942 - accuracy: 0.5673 - val_loss: 0.6865 - val_accuracy: 0.5327\n",
      "Epoch 2/12\n",
      "1710/1710 [==============================] - 154s 90ms/step - loss: 0.6890 - accuracy: 0.6462 - val_loss: 0.6496 - val_accuracy: 0.6028\n",
      "Epoch 3/12\n",
      "1710/1710 [==============================] - 230s 134ms/step - loss: 0.6459 - accuracy: 0.6515 - val_loss: 0.4415 - val_accuracy: 0.8364\n",
      "Epoch 4/12\n",
      "1710/1710 [==============================] - 191s 112ms/step - loss: 0.5859 - accuracy: 0.7427 - val_loss: 0.6209 - val_accuracy: 0.6495\n",
      "Epoch 5/12\n",
      "1710/1710 [==============================] - 173s 101ms/step - loss: 0.4397 - accuracy: 0.8673 - val_loss: 0.2488 - val_accuracy: 0.9369\n",
      "Epoch 6/12\n",
      "1710/1710 [==============================] - 168s 98ms/step - loss: 0.3126 - accuracy: 0.9012 - val_loss: 0.2582 - val_accuracy: 0.9252\n",
      "Epoch 7/12\n",
      "1710/1710 [==============================] - 180s 105ms/step - loss: 0.3018 - accuracy: 0.9099 - val_loss: 0.2479 - val_accuracy: 0.9136\n",
      "Epoch 8/12\n",
      "1710/1710 [==============================] - 218s 128ms/step - loss: 0.2583 - accuracy: 0.9257 - val_loss: 0.3261 - val_accuracy: 0.9439\n",
      "Epoch 9/12\n",
      "1710/1710 [==============================] - 185s 108ms/step - loss: 0.2322 - accuracy: 0.9327 - val_loss: 0.2848 - val_accuracy: 0.9416\n",
      "Epoch 10/12\n",
      "1710/1710 [==============================] - 169s 99ms/step - loss: 0.2357 - accuracy: 0.9251 - val_loss: 0.2773 - val_accuracy: 0.9463\n",
      "14/14 [==============================] - 8s 541ms/step - loss: 0.2773 - accuracy: 0.9463\n",
      "Test loss: 0.27732202410697937\n",
      "Test accuracy: 0.9462617039680481\n"
     ]
    }
   ],
   "source": [
    "opt = keras.optimizers.Adam(learning_rate=0.001)\n",
    "\n",
    "my_callbacks = [\n",
    "    tf.keras.callbacks.EarlyStopping(patience=3),\n",
    "    tf.keras.callbacks.ModelCheckpoint(filepath='model.{epoch:02d}-{val_loss:.2f}.h5'),\n",
    "    tf.keras.callbacks.TensorBoard(log_dir='./logs'),\n",
    "]\n",
    "\n",
    "\n",
    "model.compile(\n",
    "\toptimizer=opt,\n",
    "\tloss=\"binary_crossentropy\",\n",
    "\tmetrics=['accuracy'])\n",
    "\n",
    "model.fit(\n",
    "\tx=X_train, \n",
    "\ty=y_train,\n",
    "    epochs=12,\n",
    "    batch_size=1,\n",
    "    callbacks=my_callbacks,\n",
    "    validation_data= (X_test, y_test))\n",
    "\n",
    "score = model.evaluate(\n",
    "\tx=X_test,\n",
    "\ty=y_test)\n",
    "\n",
    "print('Test loss:', score[0])\n",
    "print('Test accuracy:', score[1])"
   ]
  },
  {
   "cell_type": "markdown",
   "id": "e4b556e5",
   "metadata": {},
   "source": [
    "## Explore the differences of visualized spectrogram between men & female\n",
    "doesn't find anything"
   ]
  },
  {
   "cell_type": "code",
   "execution_count": 122,
   "id": "45a6671c",
   "metadata": {
    "scrolled": true
   },
   "outputs": [
    {
     "data": {
      "text/html": [
       "<div>\n",
       "<style scoped>\n",
       "    .dataframe tbody tr th:only-of-type {\n",
       "        vertical-align: middle;\n",
       "    }\n",
       "\n",
       "    .dataframe tbody tr th {\n",
       "        vertical-align: top;\n",
       "    }\n",
       "\n",
       "    .dataframe thead th {\n",
       "        text-align: right;\n",
       "    }\n",
       "</style>\n",
       "<table border=\"1\" class=\"dataframe\">\n",
       "  <thead>\n",
       "    <tr style=\"text-align: right;\">\n",
       "      <th></th>\n",
       "      <th>0</th>\n",
       "      <th>1</th>\n",
       "    </tr>\n",
       "  </thead>\n",
       "  <tbody>\n",
       "    <tr>\n",
       "      <th>4</th>\n",
       "      <td>[[3.7719445e-09, 8.995782e-09, 6.7941164e-09, ...</td>\n",
       "      <td>0</td>\n",
       "    </tr>\n",
       "    <tr>\n",
       "      <th>5</th>\n",
       "      <td>[[0.22899562, 0.4602557, 0.19079475, 0.2829420...</td>\n",
       "      <td>0</td>\n",
       "    </tr>\n",
       "    <tr>\n",
       "      <th>6</th>\n",
       "      <td>[[1.3870534, 2.3736558, 2.0774436, 3.3120668, ...</td>\n",
       "      <td>0</td>\n",
       "    </tr>\n",
       "    <tr>\n",
       "      <th>8</th>\n",
       "      <td>[[0.01770663, 0.034173228, 0.017504234, 0.0197...</td>\n",
       "      <td>0</td>\n",
       "    </tr>\n",
       "    <tr>\n",
       "      <th>9</th>\n",
       "      <td>[[0.43467674, 0.48980445, 0.40332612, 0.397682...</td>\n",
       "      <td>0</td>\n",
       "    </tr>\n",
       "    <tr>\n",
       "      <th>...</th>\n",
       "      <td>...</td>\n",
       "      <td>...</td>\n",
       "    </tr>\n",
       "    <tr>\n",
       "      <th>2129</th>\n",
       "      <td>[[3.989603e-09, 5.159455e-09, 2.2959836e-09, 6...</td>\n",
       "      <td>0</td>\n",
       "    </tr>\n",
       "    <tr>\n",
       "      <th>2130</th>\n",
       "      <td>[[3.2677603e-09, 6.5180528e-09, 4.683986e-09, ...</td>\n",
       "      <td>0</td>\n",
       "    </tr>\n",
       "    <tr>\n",
       "      <th>2131</th>\n",
       "      <td>[[0.0003151488, 0.010444802, 0.060265917, 0.10...</td>\n",
       "      <td>0</td>\n",
       "    </tr>\n",
       "    <tr>\n",
       "      <th>2135</th>\n",
       "      <td>[[9.3888e-05, 0.00032636346, 0.00086883875, 0....</td>\n",
       "      <td>0</td>\n",
       "    </tr>\n",
       "    <tr>\n",
       "      <th>2137</th>\n",
       "      <td>[[6.4107217e-09, 1.6502143e-07, 6.0937936e-07,...</td>\n",
       "      <td>0</td>\n",
       "    </tr>\n",
       "  </tbody>\n",
       "</table>\n",
       "<p>1102 rows × 2 columns</p>\n",
       "</div>"
      ],
      "text/plain": [
       "                                                      0  1\n",
       "4     [[3.7719445e-09, 8.995782e-09, 6.7941164e-09, ...  0\n",
       "5     [[0.22899562, 0.4602557, 0.19079475, 0.2829420...  0\n",
       "6     [[1.3870534, 2.3736558, 2.0774436, 3.3120668, ...  0\n",
       "8     [[0.01770663, 0.034173228, 0.017504234, 0.0197...  0\n",
       "9     [[0.43467674, 0.48980445, 0.40332612, 0.397682...  0\n",
       "...                                                 ... ..\n",
       "2129  [[3.989603e-09, 5.159455e-09, 2.2959836e-09, 6...  0\n",
       "2130  [[3.2677603e-09, 6.5180528e-09, 4.683986e-09, ...  0\n",
       "2131  [[0.0003151488, 0.010444802, 0.060265917, 0.10...  0\n",
       "2135  [[9.3888e-05, 0.00032636346, 0.00086883875, 0....  0\n",
       "2137  [[6.4107217e-09, 1.6502143e-07, 6.0937936e-07,...  0\n",
       "\n",
       "[1102 rows x 2 columns]"
      ]
     },
     "execution_count": 122,
     "metadata": {},
     "output_type": "execute_result"
    }
   ],
   "source": [
    "pdd = pd.DataFrame(dataset)\n",
    "dataM = pdd.loc[pdd.loc[:][1] == 0]\n",
    "dataF = pdd.loc[pdd.loc[:][1] == 1]\n",
    "dataM\n"
   ]
  },
  {
   "cell_type": "code",
   "execution_count": 116,
   "id": "a5d43474",
   "metadata": {
    "scrolled": true
   },
   "outputs": [
    {
     "data": {
      "text/plain": [
       "<matplotlib.collections.QuadMesh at 0x7fe1177b9bb0>"
      ]
     },
     "execution_count": 116,
     "metadata": {},
     "output_type": "execute_result"
    },
    {
     "data": {
      "image/png": "[encoded data removed]",
      "text/plain": [
       "<Figure size 432x288 with 1 Axes>"
      ]
     },
     "metadata": {
      "needs_background": "light"
     },
     "output_type": "display_data"
    }
   ],
   "source": [
    "librosa.display.specshow(dataM.iloc[0][0], y_axis='mel', x_axis='time')"
   ]
  },
  {
   "cell_type": "code",
   "execution_count": 117,
   "id": "6b7e856f",
   "metadata": {},
   "outputs": [
    {
     "data": {
      "text/plain": [
       "<matplotlib.collections.QuadMesh at 0x7fe195f9d100>"
      ]
     },
     "execution_count": 117,
     "metadata": {},
     "output_type": "execute_result"
    },
    {
     "data": {
      "image/png": "[encoded data removed]",
      "text/plain": [
       "<Figure size 432x288 with 1 Axes>"
      ]
     },
     "metadata": {
      "needs_background": "light"
     },
     "output_type": "display_data"
    }
   ],
   "source": [
    "librosa.display.specshow(dataM.iloc[1][0], y_axis='mel', x_axis='time')"
   ]
  },
  {
   "cell_type": "code",
   "execution_count": 118,
   "id": "3d7f0fa5",
   "metadata": {},
   "outputs": [
    {
     "data": {
      "text/plain": [
       "<matplotlib.collections.QuadMesh at 0x7fe1a74395b0>"
      ]
     },
     "execution_count": 118,
     "metadata": {},
     "output_type": "execute_result"
    },
    {
     "data": {
      "image/png": "[encoded data removed]",
      "text/plain": [
       "<Figure size 432x288 with 1 Axes>"
      ]
     },
     "metadata": {
      "needs_background": "light"
     },
     "output_type": "display_data"
    }
   ],
   "source": [
    "librosa.display.specshow(dataM.iloc[2][0], y_axis='mel', x_axis='time')"
   ]
  },
  {
   "cell_type": "code",
   "execution_count": 119,
   "id": "c3721be3",
   "metadata": {},
   "outputs": [
    {
     "data": {
      "text/plain": [
       "<matplotlib.collections.QuadMesh at 0x7fe1a6d14160>"
      ]
     },
     "execution_count": 119,
     "metadata": {},
     "output_type": "execute_result"
    },
    {
     "data": {
      "image/png": "[encoded data removed]",
      "text/plain": [
       "<Figure size 432x288 with 1 Axes>"
      ]
     },
     "metadata": {
      "needs_background": "light"
     },
     "output_type": "display_data"
    }
   ],
   "source": [
    "librosa.display.specshow(dataF.iloc[0][0], y_axis='mel', x_axis='time')"
   ]
  },
  {
   "cell_type": "code",
   "execution_count": 120,
   "id": "39bbb6e0",
   "metadata": {},
   "outputs": [
    {
     "data": {
      "text/plain": [
       "<matplotlib.collections.QuadMesh at 0x7fe1a6eb2100>"
      ]
     },
     "execution_count": 120,
     "metadata": {},
     "output_type": "execute_result"
    },
    {
     "data": {
      "image/png": "[encoded data removed]",
      "text/plain": [
       "<Figure size 432x288 with 1 Axes>"
      ]
     },
     "metadata": {
      "needs_background": "light"
     },
     "output_type": "display_data"
    }
   ],
   "source": [
    "librosa.display.specshow(dataF.iloc[1][0], y_axis='mel', x_axis='time')"
   ]
  },
  {
   "cell_type": "code",
   "execution_count": 121,
   "id": "a45e5aaf",
   "metadata": {
    "scrolled": true
   },
   "outputs": [
    {
     "data": {
      "text/plain": [
       "<matplotlib.collections.QuadMesh at 0x7fe0f1a5eb80>"
      ]
     },
     "execution_count": 121,
     "metadata": {},
     "output_type": "execute_result"
    },
    {
     "data": {
      "image/png": "[encoded data removed]",
      "text/plain": [
       "<Figure size 432x288 with 1 Axes>"
      ]
     },
     "metadata": {
      "needs_background": "light"
     },
     "output_type": "display_data"
    }
   ],
   "source": [
    "librosa.display.specshow(dataF.iloc[2][0], y_axis='mel', x_axis='time')"
   ]
  },
  {
   "cell_type": "markdown",
   "id": "c07c28c8",
   "metadata": {},
   "source": [
    "## Third attempt\n",
    "change filter size form (5, 5) to (3, 3) ==> this speed up the training!\n",
    "\n",
    "increse epochs from 12 to 20 since I apply callback function\n",
    "\n"
   ]
  },
  {
   "cell_type": "code",
   "execution_count": 123,
   "id": "71e6f54f",
   "metadata": {},
   "outputs": [
    {
     "name": "stdout",
     "output_type": "stream",
     "text": [
      "Epoch 1/20\n",
      "1710/1710 [==============================] - 127s 74ms/step - loss: 1.3896 - accuracy: 0.6620 - val_loss: 0.5205 - val_accuracy: 0.7804\n",
      "Epoch 2/20\n",
      "1710/1710 [==============================] - 138s 81ms/step - loss: 0.5774 - accuracy: 0.7602 - val_loss: 0.4048 - val_accuracy: 0.8435\n",
      "Epoch 3/20\n",
      "1710/1710 [==============================] - 154s 90ms/step - loss: 0.3301 - accuracy: 0.8749 - val_loss: 0.2201 - val_accuracy: 0.9533\n",
      "Epoch 4/20\n",
      "1710/1710 [==============================] - 118s 69ms/step - loss: 0.2712 - accuracy: 0.9140 - val_loss: 0.1449 - val_accuracy: 0.9556\n",
      "Epoch 5/20\n",
      "1710/1710 [==============================] - 103s 61ms/step - loss: 0.1978 - accuracy: 0.9450 - val_loss: 0.1349 - val_accuracy: 0.9603\n",
      "Epoch 6/20\n",
      "1710/1710 [==============================] - 104s 61ms/step - loss: 0.1925 - accuracy: 0.9450 - val_loss: 0.1322 - val_accuracy: 0.9486\n",
      "Epoch 7/20\n",
      "1710/1710 [==============================] - 100s 58ms/step - loss: 0.1685 - accuracy: 0.9485 - val_loss: 0.3124 - val_accuracy: 0.9136\n",
      "Epoch 8/20\n",
      "1710/1710 [==============================] - 109s 64ms/step - loss: 0.1791 - accuracy: 0.9561 - val_loss: 0.1882 - val_accuracy: 0.9299\n",
      "Epoch 9/20\n",
      "1710/1710 [==============================] - 113s 66ms/step - loss: 0.1932 - accuracy: 0.9503 - val_loss: 0.1920 - val_accuracy: 0.9463\n",
      "14/14 [==============================] - 6s 355ms/step - loss: 0.1920 - accuracy: 0.9463\n",
      "Test loss: 0.19204600155353546\n",
      "Test accuracy: 0.9462617039680481\n"
     ]
    }
   ],
   "source": [
    "# set up neural network: layer, number of neuron, activation function, etc.\n",
    "model = Sequential()\n",
    "input_shape=(128, length, 1)\n",
    "\n",
    "model.add(Conv2D(24, (3, 3), strides=(1, 1), input_shape=input_shape))\n",
    "model.add(MaxPooling2D((4, 2), strides=(4, 2)))\n",
    "model.add(Activation('relu'))\n",
    "\n",
    "model.add(Conv2D(48, (3, 3), padding=\"valid\"))\n",
    "model.add(MaxPooling2D((4, 2), strides=(4, 2)))\n",
    "model.add(Activation('relu'))\n",
    "\n",
    "model.add(Conv2D(48, (3, 3), padding=\"valid\"))\n",
    "model.add(Activation('relu'))\n",
    "\n",
    "model.add(Flatten())\n",
    "model.add(Dropout(rate=0.5))\n",
    "\n",
    "model.add(Dense(64))\n",
    "model.add(Activation('relu'))\n",
    "model.add(Dropout(rate=0.5))\n",
    "\n",
    "model.add(Dense(1))\n",
    "model.add(Activation('sigmoid'))\n",
    "\n",
    "opt = keras.optimizers.Adam(learning_rate=0.001)\n",
    "\n",
    "my_callbacks = [\n",
    "    tf.keras.callbacks.EarlyStopping(patience=3),\n",
    "    tf.keras.callbacks.ModelCheckpoint(filepath='model.{epoch:02d}-{val_loss:.2f}.h5'),\n",
    "    tf.keras.callbacks.TensorBoard(log_dir='./logs'),\n",
    "]\n",
    "\n",
    "\n",
    "model.compile(\n",
    "\toptimizer=opt,\n",
    "\tloss=\"binary_crossentropy\",\n",
    "\tmetrics=['accuracy'])\n",
    "\n",
    "model.fit(\n",
    "\tx=X_train, \n",
    "\ty=y_train,\n",
    "    epochs=20,\n",
    "    batch_size=1,\n",
    "    callbacks=my_callbacks,\n",
    "    validation_data= (X_test, y_test))\n",
    "\n",
    "score = model.evaluate(\n",
    "\tx=X_test,\n",
    "\ty=y_test)\n",
    "\n",
    "print('Test loss:', score[0])\n",
    "print('Test accuracy:', score[1])"
   ]
  },
  {
   "cell_type": "code",
   "execution_count": 61,
   "id": "90a9ec24",
   "metadata": {},
   "outputs": [],
   "source": [
    "# save the converted spectrogram info dataframe into file\n",
    "open_file = open('spectrogram_gender', \"wb\")\n",
    "pickle.dump(D, open_file)\n",
    "open_file.close()"
   ]
  },
  {
   "cell_type": "code",
   "execution_count": null,
   "id": "b5b8842f",
   "metadata": {},
   "outputs": [],
   "source": [
    "# load the spectrogram info datafram\n",
    "\n",
    "# it actually just some big numerical arrays, librosa covert the spectrogram to some numerical info.\n",
    "\n",
    "# open_file = open('spectrogram_gender', \"rb\")\n",
    "# loaded_spectrogram = pickle.load(open_file)\n",
    "# open_file.close()"
   ]
  }
 ],
 "metadata": {
  "hide_input": false,
  "kernelspec": {
   "display_name": "Python 3",
   "language": "python",
   "name": "python3"
  },
  "language_info": {
   "codemirror_mode": {
    "name": "ipython",
    "version": 3
   },
   "file_extension": ".py",
   "mimetype": "text/x-python",
   "name": "python",
   "nbconvert_exporter": "python",
   "pygments_lexer": "ipython3",
   "version": "3.8.8"
  }
 },
 "nbformat": 4,
 "nbformat_minor": 5
}
